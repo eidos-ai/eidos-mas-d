{
 "cells": [
  {
   "cell_type": "code",
   "execution_count": 1,
   "id": "6bb7af10",
   "metadata": {},
   "outputs": [],
   "source": [
    "from ipywebrtc import AudioRecorder, CameraStream\n",
    "import whisper"
   ]
  },
  {
   "cell_type": "markdown",
   "id": "10b2402a",
   "metadata": {},
   "source": [
    "# Microphone input"
   ]
  },
  {
   "cell_type": "markdown",
   "id": "0734186e",
   "metadata": {},
   "source": [
    "### record audio"
   ]
  },
  {
   "cell_type": "code",
   "execution_count": 2,
   "id": "af5dbd82",
   "metadata": {},
   "outputs": [
    {
     "data": {
      "application/vnd.jupyter.widget-view+json": {
       "model_id": "e26257af5832446297096186cd74f970",
       "version_major": 2,
       "version_minor": 0
      },
      "text/plain": [
       "AudioRecorder(audio=Audio(value=b'', format='webm'), stream=CameraStream(constraints={'audio': True, 'video': …"
      ]
     },
     "execution_count": 2,
     "metadata": {},
     "output_type": "execute_result"
    }
   ],
   "source": [
    "# import torchaudio\n",
    "# from IPython.display import Audio\n",
    "\n",
    "camera = CameraStream(constraints={'audio': True,'video':False})\n",
    "recorder = AudioRecorder(stream=camera)\n",
    "recorder"
   ]
  },
  {
   "cell_type": "code",
   "execution_count": 10,
   "id": "52dce21e",
   "metadata": {},
   "outputs": [],
   "source": [
    "with open('recording.webm', 'wb') as f:\n",
    "    f.write(recorder.audio.value)"
   ]
  },
  {
   "cell_type": "markdown",
   "id": "2341f1a0",
   "metadata": {},
   "source": [
    "### load model"
   ]
  },
  {
   "cell_type": "code",
   "execution_count": 5,
   "id": "0366a550",
   "metadata": {},
   "outputs": [],
   "source": [
    "model = whisper.load_model(\"small\")"
   ]
  },
  {
   "cell_type": "markdown",
   "id": "ee99b7da",
   "metadata": {},
   "source": [
    "### transcribe"
   ]
  },
  {
   "cell_type": "code",
   "execution_count": 12,
   "id": "9b64119f",
   "metadata": {},
   "outputs": [
    {
     "name": "stdout",
     "output_type": "stream",
     "text": [
      "Detected language: mr\n"
     ]
    },
    {
     "data": {
      "text/plain": [
       "' या और'"
      ]
     },
     "execution_count": 12,
     "metadata": {},
     "output_type": "execute_result"
    }
   ],
   "source": [
    "result = model.transcribe(\"recording.webm\", fp16=False, language=\"mr\")\n",
    "print(f\"Detected language: {result['language']}\")\n",
    "result['text']"
   ]
  },
  {
   "cell_type": "markdown",
   "id": "b3de204a",
   "metadata": {},
   "source": [
    "### translate"
   ]
  },
  {
   "cell_type": "code",
   "execution_count": 6,
   "id": "c9ea9a21",
   "metadata": {},
   "outputs": [
    {
     "name": "stdout",
     "output_type": "stream",
     "text": [
      "Detected language: es\n"
     ]
    },
    {
     "data": {
      "text/plain": [
       "' My name is Facundo Techera and I am presenting Whisper, an Artificial Intelligence of OpenAI.'"
      ]
     },
     "execution_count": 6,
     "metadata": {},
     "output_type": "execute_result"
    }
   ],
   "source": [
    "result = model.transcribe(\"recording.webm\", fp16=False, task='translate')\n",
    "print(f\"Detected language: {result['language']}\")\n",
    "result[\"text\"]"
   ]
  },
  {
   "cell_type": "markdown",
   "id": "38bfced2",
   "metadata": {},
   "source": [
    "# File input "
   ]
  },
  {
   "cell_type": "markdown",
   "id": "0be9dfb0",
   "metadata": {},
   "source": [
    "### load model"
   ]
  },
  {
   "cell_type": "code",
   "execution_count": 13,
   "id": "0ea48158",
   "metadata": {},
   "outputs": [],
   "source": [
    "model = whisper.load_model(\"medium\")"
   ]
  },
  {
   "cell_type": "code",
   "execution_count": 40,
   "id": "dfab9afe",
   "metadata": {},
   "outputs": [],
   "source": [
    "model = whisper.load_model(\"large\")"
   ]
  },
  {
   "cell_type": "markdown",
   "id": "cd07c2ae",
   "metadata": {},
   "source": [
    "### transcribe ✈️ medium"
   ]
  },
  {
   "cell_type": "code",
   "execution_count": 18,
   "id": "6ed60916",
   "metadata": {},
   "outputs": [
    {
     "name": "stdout",
     "output_type": "stream",
     "text": [
      "Detected language: en\n"
     ]
    },
    {
     "data": {
      "text/plain": [
       "\" Hey, it's me again the guy who can't stop won't stop on a comfy leather seat with lots of legroom and free direct TV Not to mention all the snacks I can eat and boy I can eat a lot of snacks Let's hear it for the snacks high five low five medium five no five doesn't matter You can't stop me because that's why they call me Mr. Non-stop That's why I fly jet-blue because they don't stop their non-stop to cities I do business with like Chicago LA Newark DC Baltimore San Fran Vegas Charlotte Raleigh Phoenix at Buffalo Hey, what happens a buffalo stays in Buffalo on my right up top high five Not a high fiver either. Nobody high fives anymore Old-school, I love it. I want it. I need it\""
      ]
     },
     "execution_count": 18,
     "metadata": {},
     "output_type": "execute_result"
    }
   ],
   "source": [
    "result = model.transcribe(\"jetcut.mov\", fp16=False)\n",
    "print(f\"Detected language: {result['language']}\")\n",
    "result['text']"
   ]
  },
  {
   "cell_type": "markdown",
   "id": "6dbf3f45",
   "metadata": {},
   "source": [
    "### transcribe ✈️ large"
   ]
  },
  {
   "cell_type": "code",
   "execution_count": 42,
   "id": "5d3fbf63",
   "metadata": {},
   "outputs": [
    {
     "name": "stdout",
     "output_type": "stream",
     "text": [
      "Detected language: en\n"
     ]
    },
    {
     "data": {
      "text/plain": [
       "\" Hey, it's me again, the guy who can't stop, won't stop, on a comfy leather seat with lots of legroom and free direct TV, not to mention all the snacks I can eat, and boy, I can eat a lot of snacks. Let's hear it for the snacks. High five, low five, medium five, no five, doesn't matter, you can't stop me, because that's why they call me Mr. Non-Stop. That's why I fly JetBlue, because they don't stop, they're non-stop to cities I do business with, like Chicago, LA, Newark, DC, Baltimore, San Fran, Vegas, Charlotte, Raleigh, Phoenix, and Buffalo. Hey, what happens in Buffalo stays in Buffalo. Am I right? Up top, high five. Not a high fiver either, nobody high fives anymore. Old school. I love it, I want it, I need it.\""
      ]
     },
     "execution_count": 42,
     "metadata": {},
     "output_type": "execute_result"
    }
   ],
   "source": [
    "result = model.transcribe(\"jetcut.mov\", fp16=False)\n",
    "print(f\"Detected language: {result['language']}\")\n",
    "result['text']"
   ]
  },
  {
   "cell_type": "markdown",
   "id": "1f7cef66",
   "metadata": {},
   "source": [
    "# "
   ]
  },
  {
   "cell_type": "markdown",
   "id": "b73e12a2",
   "metadata": {},
   "source": [
    "### transcribe 📻 medium"
   ]
  },
  {
   "cell_type": "code",
   "execution_count": 15,
   "id": "4508df36",
   "metadata": {},
   "outputs": [
    {
     "name": "stdout",
     "output_type": "stream",
     "text": [
      "Detected language: es\n"
     ]
    },
    {
     "data": {
      "text/plain": [
       "' De repente, a veces por casualidad, un pronóstico, una visión, realmente se vuelve por volver a ser realidad. Estamos bastante complicados y la verdad es que los tiempos parece que se vienen bien negros. Leonardo, Charlie Alpha 4, Wismichu Oscar Oscar en grupo, Charlie Echo 3, Papayá.'"
      ]
     },
     "execution_count": 15,
     "metadata": {},
     "output_type": "execute_result"
    }
   ],
   "source": [
    "result = model.transcribe(\"radio.mp3\", fp16=False)\n",
    "print(f\"Detected language: {result['language']}\")\n",
    "result['text']"
   ]
  },
  {
   "cell_type": "markdown",
   "id": "e0ef5954",
   "metadata": {},
   "source": [
    "### translate 📻 medium"
   ]
  },
  {
   "cell_type": "code",
   "execution_count": 16,
   "id": "8f2c51c8",
   "metadata": {},
   "outputs": [
    {
     "name": "stdout",
     "output_type": "stream",
     "text": [
      "Detected language: es\n"
     ]
    },
    {
     "data": {
      "text/plain": [
       "' Sometimes, by chance, a prediction, a vision, it really becomes reality. We are quite complicated and the truth is that time seems to be black. Leonardo, Charlie Alpha 4, Whiskey Oscar, Oscar in the group, Charlie Echo 3, Papa and Alex.'"
      ]
     },
     "execution_count": 16,
     "metadata": {},
     "output_type": "execute_result"
    }
   ],
   "source": [
    "result = model.transcribe(\"radio.mp3\", fp16=False, task='translate')\n",
    "print(f\"Detected language: {result['language']}\")\n",
    "result[\"text\"]"
   ]
  },
  {
   "cell_type": "markdown",
   "id": "b381124f",
   "metadata": {},
   "source": [
    "# "
   ]
  },
  {
   "cell_type": "markdown",
   "id": "f6c642f3",
   "metadata": {},
   "source": [
    "### transcribe 📻 large"
   ]
  },
  {
   "cell_type": "code",
   "execution_count": 28,
   "id": "578fc113",
   "metadata": {},
   "outputs": [
    {
     "name": "stdout",
     "output_type": "stream",
     "text": [
      "Detected language: es\n"
     ]
    },
    {
     "data": {
      "text/plain": [
       "' De repente, a veces por casualidad, ¿no es cierto? Un pronóstico, una visión, realmente se vuelve, puede volverse realidad. Estamos bastante complicados y la verdad es que los tiempos parece que se vienen bien negros. Bernardo, Charlie Alpha 4, Whiskey Oscar, Oscar en grupo, Charlie Echo 3, Papa Yacky, Echo Kirk.'"
      ]
     },
     "execution_count": 28,
     "metadata": {},
     "output_type": "execute_result"
    }
   ],
   "source": [
    "result = model.transcribe(\"radio.mp3\", fp16=False)\n",
    "print(f\"Detected language: {result['language']}\")\n",
    "result['text']"
   ]
  },
  {
   "cell_type": "markdown",
   "id": "9834acc8",
   "metadata": {},
   "source": [
    "### translate 📻 large"
   ]
  },
  {
   "cell_type": "code",
   "execution_count": 29,
   "id": "24c197b7",
   "metadata": {},
   "outputs": [
    {
     "name": "stdout",
     "output_type": "stream",
     "text": [
      "Detected language: es\n"
     ]
    },
    {
     "data": {
      "text/plain": [
       "' Suddenly, sometimes by chance, a prediction, a vision, it can become reality. We are quite complicated and the truth is that the times seem to be coming very black. Bernardo, Charlie Alpha 4, Whiskey Oscar Oscar, Charlie Echo 3, Papaya, Chico, Caracas.'"
      ]
     },
     "execution_count": 29,
     "metadata": {},
     "output_type": "execute_result"
    }
   ],
   "source": [
    "result = model.transcribe(\"radio.mp3\", fp16=False, task='translate')\n",
    "print(f\"Detected language: {result['language']}\")\n",
    "result[\"text\"]"
   ]
  }
 ],
 "metadata": {
  "kernelspec": {
   "display_name": "Python 3 (ipykernel)",
   "language": "python",
   "name": "python3"
  },
  "language_info": {
   "codemirror_mode": {
    "name": "ipython",
    "version": 3
   },
   "file_extension": ".py",
   "mimetype": "text/x-python",
   "name": "python",
   "nbconvert_exporter": "python",
   "pygments_lexer": "ipython3",
   "version": "3.9.16"
  }
 },
 "nbformat": 4,
 "nbformat_minor": 5
}
